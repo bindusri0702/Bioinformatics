{
 "cells": [
  {
   "cell_type": "markdown",
   "metadata": {},
   "source": [
    "# Import necessary packages"
   ]
  },
  {
   "cell_type": "code",
   "execution_count": 13,
   "metadata": {},
   "outputs": [],
   "source": [
    "import pandas as pd\n",
    "import numpy as np\n",
    "# calculating manhattan distance between vectors\n",
    "from scipy.spatial.distance import euclidean\n",
    "import time"
   ]
  },
  {
   "cell_type": "markdown",
   "metadata": {},
   "source": [
    "## Read sequences from different files"
   ]
  },
  {
   "cell_type": "code",
   "execution_count": 14,
   "metadata": {},
   "outputs": [],
   "source": [
    "file1 =  pd.read_csv('C:/Users/bindu/Desktop/SEM4/IBS_211/Project/BetaCorinavirus.csv', header= None)\n",
    "file2 =  pd.read_csv('C:/Users/bindu/Desktop/SEM4/IBS_211/Project/BetaCorinavirus2.csv', header= None)\n",
    "file3 =  pd.read_csv('C:/Users/bindu/Desktop/SEM4/IBS_211/Project/Betaflexiviridae.csv', header= None)\n",
    "file4 =  pd.read_csv('C:/Users/bindu/Desktop/SEM4/IBS_211/Project/Bromoviridae.csv', header= None)"
   ]
  },
  {
   "cell_type": "markdown",
   "metadata": {},
   "source": [
    "![image info](https://media.springernature.com/lw685/springer-static/image/art%3A10.1186%2F1471-2105-14-S11-S2/MediaObjects/12859_2013_Article_6038_Fig1_HTML.jpg?as=webp)"
   ]
  },
  {
   "cell_type": "code",
   "execution_count": 15,
   "metadata": {},
   "outputs": [],
   "source": [
    "bc  = file1.to_numpy()\n",
    "bc2 = file2.to_numpy()\n",
    "bf  = file3.to_numpy()\n",
    "bv  = file4.to_numpy()"
   ]
  },
  {
   "cell_type": "code",
   "execution_count": 16,
   "metadata": {},
   "outputs": [],
   "source": [
    "def create_segment(seq,k):\n",
    "    n = len(seq)\n",
    "    segments = []\n",
    "    i = 0\n",
    "    while(n-(i+k-1) > 0):\n",
    "        segments.append(seq[i:i+k])\n",
    "        i = i+1\n",
    "    return(segments)"
   ]
  },
  {
   "cell_type": "code",
   "execution_count": 17,
   "metadata": {},
   "outputs": [],
   "source": [
    "def create_nsv_words(seg,p):\n",
    "    m = len(seg)\n",
    "    n = len(seg[0])\n",
    "    j = 0\n",
    "    nsv_words = []\n",
    "    for i in range(m):\n",
    "        while(n-(j+p-1) > 0):\n",
    "            nsv_words.append(seg[i][j:j+p])\n",
    "            j = j+1\n",
    "        j = 0\n",
    "    return(nsv_words)           "
   ]
  },
  {
   "cell_type": "code",
   "execution_count": 18,
   "metadata": {},
   "outputs": [],
   "source": [
    "def quasi_align_table(unq_nsv,seq_list,p):\n",
    "    nsv_seq_list = []\n",
    "    for s in seq_list:\n",
    "        nsv_seq_list.append(create_segment(s,p))\n",
    "    m = len(seq_list)\n",
    "    n = len(unq_nsv)\n",
    "    qa = np.zeros((m,n))\n",
    "    for i in range(m):\n",
    "        for j in range(n):\n",
    "            for x in nsv_seq_list[i]:\n",
    "                if(x == unq_nsv[j]):\n",
    "                    qa[i][j] = qa[i][j] + 1\n",
    "\n",
    "    return(qa)"
   ]
  },
  {
   "cell_type": "code",
   "execution_count": 19,
   "metadata": {},
   "outputs": [],
   "source": [
    "def cluster_nsv(quasi_table,p):\n",
    "    m,n = np.shape(quasi_table)\n",
    "    eucli_dist = np.zeros((m,m),dtype = 'int32')\n",
    "    threshold_dist = 5\n",
    "    sub_clstr = []\n",
    "    clstr = []\n",
    "    for i in range(m):\n",
    "        for j in range(m):\n",
    "            eucli_dist[i][j] = euclidean(quasi_table[i],quasi_table[j])/(2*p)\n",
    "            if(eucli_dist[i][j] < threshold_dist):\n",
    "                sub_clstr.append(j)\n",
    "        clstr.append(sub_clstr)\n",
    "        sub_clstr = [] \n",
    "    final_clstr = []\n",
    "    for c in clstr:\n",
    "        if c not in final_clstr:\n",
    "            final_clstr.append(c)\n",
    "    return(final_clstr)"
   ]
  },
  {
   "cell_type": "code",
   "execution_count": 20,
   "metadata": {},
   "outputs": [],
   "source": [
    "def Quasi_alignment(seq_list,p):\n",
    "    nsv_words  = create_nsv_words(seq_list,p)\n",
    "    unq_nsv_words = list(set(nsv_words))\n",
    "    quasi_table = quasi_align_table(unq_nsv_words,seq_list,p)\n",
    "    clstr = cluster_nsv(quasi_table,p)\n",
    "    return(clstr)"
   ]
  },
  {
   "cell_type": "code",
   "execution_count": 21,
   "metadata": {
    "scrolled": true
   },
   "outputs": [
    {
     "name": "stdout",
     "output_type": "stream",
     "text": [
      "[[0, 1, 2], [3]]\n",
      "time taken to align multiple sequences 158.453125\n"
     ]
    }
   ],
   "source": [
    "seq_list = [bc[0][1],bc[1][1],bc[2][1],bv[3][1]]\n",
    "p = 7\n",
    "start = time.process_time()\n",
    "clstr = Quasi_alignment(seq_list,p)\n",
    "end = time.process_time()\n",
    "print(clstr)\n",
    "print(\"time taken to align multiple sequences \" + str(end - start))"
   ]
  },
  {
   "cell_type": "code",
   "execution_count": null,
   "metadata": {},
   "outputs": [],
   "source": []
  }
 ],
 "metadata": {
  "kernelspec": {
   "display_name": "Python 3",
   "language": "python",
   "name": "python3"
  },
  "language_info": {
   "codemirror_mode": {
    "name": "ipython",
    "version": 3
   },
   "file_extension": ".py",
   "mimetype": "text/x-python",
   "name": "python",
   "nbconvert_exporter": "python",
   "pygments_lexer": "ipython3",
   "version": "3.8.5"
  }
 },
 "nbformat": 4,
 "nbformat_minor": 4
}
